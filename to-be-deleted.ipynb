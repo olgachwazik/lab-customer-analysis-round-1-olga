{
 "cells": [
  {
   "cell_type": "code",
   "execution_count": 1,
   "id": "f61d7f2d",
   "metadata": {},
   "outputs": [],
   "source": [
    "import pandas as pd\n"
   ]
  },
  {
   "cell_type": "code",
   "execution_count": 4,
   "id": "2cf6b4e7",
   "metadata": {},
   "outputs": [],
   "source": [
    "file1 = pd.read_csv(\"files_for_lab/csv_files/file1.csv\")"
   ]
  }
 ],
 "metadata": {
  "kernelspec": {
   "display_name": "Python 3 (ipykernel)",
   "language": "python",
   "name": "python3"
  },
  "language_info": {
   "codemirror_mode": {
    "name": "ipython",
    "version": 3
   },
   "file_extension": ".py",
   "mimetype": "text/x-python",
   "name": "python",
   "nbconvert_exporter": "python",
   "pygments_lexer": "ipython3",
   "version": "3.10.9"
  }
 },
 "nbformat": 4,
 "nbformat_minor": 5
}
